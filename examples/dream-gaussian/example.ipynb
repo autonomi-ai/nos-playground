{
 "cells": [
  {
   "cell_type": "markdown",
   "metadata": {},
   "source": [
    "Initialize client and load model."
   ]
  },
  {
   "cell_type": "code",
   "execution_count": 3,
   "metadata": {},
   "outputs": [],
   "source": [
    "from nos.client import Client\n",
    "\n",
    "client = Client(\"[::]:50051\")\n",
    "model_id = \"dream-gaussian\"\n",
    "model = client.Module(model_id)"
   ]
  },
  {
   "cell_type": "markdown",
   "metadata": {},
   "source": [
    "Read example image and run inference."
   ]
  },
  {
   "cell_type": "code",
   "execution_count": 4,
   "metadata": {},
   "outputs": [],
   "source": [
    "import cv2\n",
    "\n",
    "img = cv2.imread(\"./csm_luigi_rgba.png\", cv2.IMREAD_UNCHANGED) # Input needs to be RGBA (4 channels) with transparency mask\n",
    "\n",
    "response = model(img=img)"
   ]
  },
  {
   "cell_type": "markdown",
   "metadata": {},
   "source": [
    "Unpack received response and save it to mesh."
   ]
  },
  {
   "cell_type": "code",
   "execution_count": 9,
   "metadata": {},
   "outputs": [
    {
     "data": {
      "text/plain": [
       "True"
      ]
     },
     "execution_count": 9,
     "metadata": {},
     "output_type": "execute_result"
    }
   ],
   "source": [
    "import pygltflib\n",
    "import numpy as np\n",
    "\n",
    "f_np = response['f']\n",
    "v_np = response['v']\n",
    "vt_np = response['vt']\n",
    "albedo = response['albedo']\n",
    "\n",
    "albedo = (albedo * 255).astype(np.uint8)\n",
    "albedo = cv2.cvtColor(albedo, cv2.COLOR_RGB2BGR)\n",
    "\n",
    "f_np_blob = f_np.flatten().tobytes()\n",
    "v_np_blob = v_np.tobytes()\n",
    "# vn_np_blob = vn_np.tobytes()\n",
    "vt_np_blob = vt_np.tobytes()\n",
    "albedo_blob = cv2.imencode('.png', albedo)[1].tobytes()\n",
    "\n",
    "gltf = pygltflib.GLTF2(\n",
    "    scene=0,\n",
    "    scenes=[pygltflib.Scene(nodes=[0])],\n",
    "    nodes=[pygltflib.Node(mesh=0)],\n",
    "    meshes=[pygltflib.Mesh(primitives=[\n",
    "        pygltflib.Primitive(\n",
    "            # indices to accessors (0 is triangles)\n",
    "            attributes=pygltflib.Attributes(\n",
    "                POSITION=1, TEXCOORD_0=2, \n",
    "            ),\n",
    "            indices=0, material=0,\n",
    "        )\n",
    "    ])],\n",
    "    materials=[\n",
    "        pygltflib.Material(\n",
    "            pbrMetallicRoughness=pygltflib.PbrMetallicRoughness(\n",
    "                baseColorTexture=pygltflib.TextureInfo(index=0, texCoord=0),\n",
    "                metallicFactor=0.0,\n",
    "                roughnessFactor=1.0,\n",
    "            ),\n",
    "            alphaCutoff=0,\n",
    "            doubleSided=True,\n",
    "        )\n",
    "    ],\n",
    "    textures=[\n",
    "        pygltflib.Texture(sampler=0, source=0),\n",
    "    ],\n",
    "    samplers=[\n",
    "        pygltflib.Sampler(magFilter=pygltflib.LINEAR, minFilter=pygltflib.LINEAR_MIPMAP_LINEAR, wrapS=pygltflib.REPEAT, wrapT=pygltflib.REPEAT),\n",
    "    ],\n",
    "    images=[\n",
    "        # use embedded (buffer) image\n",
    "        pygltflib.Image(bufferView=3, mimeType=\"image/png\"),\n",
    "    ],\n",
    "    buffers=[\n",
    "        pygltflib.Buffer(byteLength=len(f_np_blob) + len(v_np_blob) + len(vt_np_blob) + len(albedo_blob))\n",
    "    ],\n",
    "    # buffer view (based on dtype)\n",
    "    bufferViews=[\n",
    "        # triangles; as flatten (element) array\n",
    "        pygltflib.BufferView(\n",
    "            buffer=0,\n",
    "            byteLength=len(f_np_blob),\n",
    "            target=pygltflib.ELEMENT_ARRAY_BUFFER, # GL_ELEMENT_ARRAY_BUFFER (34963)\n",
    "        ),\n",
    "        # positions; as vec3 array\n",
    "        pygltflib.BufferView(\n",
    "            buffer=0,\n",
    "            byteOffset=len(f_np_blob),\n",
    "            byteLength=len(v_np_blob),\n",
    "            byteStride=12, # vec3\n",
    "            target=pygltflib.ARRAY_BUFFER, # GL_ARRAY_BUFFER (34962)\n",
    "        ),\n",
    "        # texcoords; as vec2 array\n",
    "        pygltflib.BufferView(\n",
    "            buffer=0,\n",
    "            byteOffset=len(f_np_blob) + len(v_np_blob),\n",
    "            byteLength=len(vt_np_blob),\n",
    "            byteStride=8, # vec2\n",
    "            target=pygltflib.ARRAY_BUFFER,\n",
    "        ),\n",
    "        # texture; as none target\n",
    "        pygltflib.BufferView(\n",
    "            buffer=0,\n",
    "            byteOffset=len(f_np_blob) + len(v_np_blob) + len(vt_np_blob),\n",
    "            byteLength=len(albedo_blob),\n",
    "        ),\n",
    "    ],\n",
    "    accessors=[\n",
    "        # 0 = triangles\n",
    "        pygltflib.Accessor(\n",
    "            bufferView=0,\n",
    "            componentType=pygltflib.UNSIGNED_INT, # GL_UNSIGNED_INT (5125)\n",
    "            count=f_np.size,\n",
    "            type=pygltflib.SCALAR,\n",
    "            max=[int(f_np.max())],\n",
    "            min=[int(f_np.min())],\n",
    "        ),\n",
    "        # 1 = positions\n",
    "        pygltflib.Accessor(\n",
    "            bufferView=1,\n",
    "            componentType=pygltflib.FLOAT, # GL_FLOAT (5126)\n",
    "            count=len(v_np),\n",
    "            type=pygltflib.VEC3,\n",
    "            max=v_np.max(axis=0).tolist(),\n",
    "            min=v_np.min(axis=0).tolist(),\n",
    "        ),\n",
    "        # 2 = texcoords\n",
    "        pygltflib.Accessor(\n",
    "            bufferView=2,\n",
    "            componentType=pygltflib.FLOAT,\n",
    "            count=len(vt_np),\n",
    "            type=pygltflib.VEC2,\n",
    "            max=vt_np.max(axis=0).tolist(),\n",
    "            min=vt_np.min(axis=0).tolist(),\n",
    "        ),\n",
    "    ],\n",
    ")\n",
    "\n",
    "# set actual data\n",
    "gltf.set_binary_blob(f_np_blob + v_np_blob + vt_np_blob + albedo_blob)\n",
    "\n",
    "gltf.save(\"./example.glb\")"
   ]
  },
  {
   "cell_type": "markdown",
   "metadata": {},
   "source": [
    "![output example](./example.gif)"
   ]
  }
 ],
 "metadata": {
  "kernelspec": {
   "display_name": "nos-py38",
   "language": "python",
   "name": "python3"
  },
  "language_info": {
   "codemirror_mode": {
    "name": "ipython",
    "version": 3
   },
   "file_extension": ".py",
   "mimetype": "text/x-python",
   "name": "python",
   "nbconvert_exporter": "python",
   "pygments_lexer": "ipython3",
   "version": "3.8.18"
  }
 },
 "nbformat": 4,
 "nbformat_minor": 2
}
