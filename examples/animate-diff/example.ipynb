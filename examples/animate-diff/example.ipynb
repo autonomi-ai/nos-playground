{
 "cells": [
  {
   "cell_type": "markdown",
   "metadata": {},
   "source": [
    "An example "
   ]
  },
  {
   "cell_type": "code",
   "execution_count": 1,
   "metadata": {},
   "outputs": [],
   "source": [
    "from typing import List, Iterable\n",
    "from PIL import Image\n",
    "from nos.client import Client\n",
    "\n",
    "client = Client(\"[::]:50051\")\n",
    "model_id = \"animate-diff\"\n",
    "model = client.Module(model_id)"
   ]
  },
  {
   "cell_type": "code",
   "execution_count": 3,
   "metadata": {},
   "outputs": [],
   "source": [
    "postive_prompts = [\"a cute dog, highres, 8k\"]\n",
    "negative_prompts = [\"monochrome, lowres, bad anatomy, worst quality, low quality\"]\n",
    "\n",
    "response: Iterable[Image.Image] = model(prompts=postive_prompts, negative_prompts=negative_prompts, _stream=True)\n",
    "frames = list(response)\n",
    "frames[0].save(\"example.gif\", save_all=True, append_images=frames[1:], duration=100, loop=0)\n"
   ]
  },
  {
   "cell_type": "markdown",
   "metadata": {},
   "source": [
    "![](./example.gif)  \n",
    "![output example](./example.gif)"
   ]
  }
 ],
 "metadata": {
  "kernelspec": {
   "display_name": "nos-py38",
   "language": "python",
   "name": "python3"
  },
  "language_info": {
   "codemirror_mode": {
    "name": "ipython",
    "version": 3
   },
   "file_extension": ".py",
   "mimetype": "text/x-python",
   "name": "python",
   "nbconvert_exporter": "python",
   "pygments_lexer": "ipython3",
   "version": "3.8.18"
  }
 },
 "nbformat": 4,
 "nbformat_minor": 2
}
