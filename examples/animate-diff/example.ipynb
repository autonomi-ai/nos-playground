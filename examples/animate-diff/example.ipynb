{
 "cells": [
  {
   "cell_type": "markdown",
   "metadata": {},
   "source": [
    "# Animate-Diff\n",
    "\n",
    "This Jupyter Notebook serves as an example of using the Animate-Diff model. The Animate-Diff model is a powerful tool for generating animated images based on given prompts.\n",
    "\n",
    "## References\n",
    "\n",
    "- [Animate-Diff Paper](https://arxiv.org/abs/2307.04725)\n",
    "- [AnimateDiff GitHub Repository](https://github.com/guoyww/AnimateDiff)\n"
   ]
  },
  {
   "cell_type": "markdown",
   "metadata": {},
   "source": [
    "\n",
    "## Usage\n",
    "\n",
    "To use the Animate-Diff model, follow the steps below:\n",
    "\n",
    "1. Import the necessary modules and create a client connection.\n",
    "2. Specify the positive and negative prompts.\n",
    "3. Call the model with the prompts to generate a sequence of frames.\n",
    "4. Save the frames as an animated GIF.\n",
    "\n",
    "Please refer to the code cells below for a detailed implementation of these steps."
   ]
  },
  {
   "cell_type": "code",
   "execution_count": 1,
   "metadata": {},
   "outputs": [],
   "source": [
    "from typing import List, Iterable\n",
    "from PIL import Image\n",
    "from nos.client import Client\n",
    "\n",
    "client = Client(\"[::]:50051\")\n",
    "model_id = \"animate-diff\"\n",
    "model = client.Module(model_id)"
   ]
  },
  {
   "cell_type": "code",
   "execution_count": 3,
   "metadata": {},
   "outputs": [],
   "source": [
    "postive_prompts = [\"a cute dog, highres, 8k\"]\n",
    "negative_prompts = [\"monochrome, lowres, bad anatomy, worst quality, low quality\"]\n",
    "\n",
    "response: Iterable[Image.Image] = model(prompts=postive_prompts, negative_prompts=negative_prompts, _stream=True)\n",
    "frames = list(response)\n",
    "frames[0].save(\"example.gif\", save_all=True, append_images=frames[1:], duration=100, loop=0)\n"
   ]
  },
  {
   "cell_type": "markdown",
   "metadata": {},
   "source": [
    "![output example](./example.gif)"
   ]
  }
 ],
 "metadata": {
  "kernelspec": {
   "display_name": "nos-py38",
   "language": "python",
   "name": "python3"
  },
  "language_info": {
   "codemirror_mode": {
    "name": "ipython",
    "version": 3
   },
   "file_extension": ".py",
   "mimetype": "text/x-python",
   "name": "python",
   "nbconvert_exporter": "python",
   "pygments_lexer": "ipython3",
   "version": "3.8.18"
  }
 },
 "nbformat": 4,
 "nbformat_minor": 2
}
